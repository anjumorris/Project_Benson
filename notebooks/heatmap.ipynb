{
 "cells": [
  {
   "cell_type": "markdown",
   "metadata": {},
   "source": [
    "## What is the variation in traffic week by week during the summer months?"
   ]
  },
  {
   "cell_type": "code",
   "execution_count": null,
   "metadata": {},
   "outputs": [],
   "source": [
    "# This reads in the cleaned data file and creates a heatmap \n",
    "# of the foot traffic at top MTA stations by week."
   ]
  },
  {
   "cell_type": "markdown",
   "metadata": {},
   "source": [
    "### 1. Import packages and libraries"
   ]
  },
  {
   "cell_type": "code",
   "execution_count": null,
   "metadata": {},
   "outputs": [],
   "source": [
    "import numpy as np\n",
    "import pandas as pd\n",
    "import matplotlib\n",
    "import matplotlib.pyplot as plt\n",
    "import seaborn as sns\n",
    "import datetime as dt\n",
    "\n",
    "# allow render in Jupyter notebook\n",
    "%matplotlib inline\n",
    "\n",
    "# configure format of images\n",
    "%config InlineBackend.figure_format = 'svg'\n",
    "sns.set(font_scale=0.8)"
   ]
  },
  {
   "cell_type": "markdown",
   "metadata": {},
   "source": [
    "### 2. Group and sort data"
   ]
  },
  {
   "cell_type": "code",
   "execution_count": null,
   "metadata": {},
   "outputs": [],
   "source": [
    "# read cleaned data into data frame\n",
    "df = pd.read_csv('output_stage2.csv', parse_dates=['DATETIME'])\n",
    "df.drop(['Unnamed: 0'], axis=1, inplace=True)"
   ]
  },
  {
   "cell_type": "code",
   "execution_count": null,
   "metadata": {},
   "outputs": [],
   "source": [
    "# add useful columns and define data types\n",
    "df['TOTAL'] = df['ENTRY_DIFF'] + df['EXIT_DIFF']\n",
    "df['DATE'] = pd.to_datetime(df['DATE'])"
   ]
  },
  {
   "cell_type": "code",
   "execution_count": null,
   "metadata": {},
   "outputs": [],
   "source": [
    "# prepare dataframe to be filtered by station\n",
    "df = df.groupby(['STATION', 'DATE']).sum().reset_index()"
   ]
  },
  {
   "cell_type": "code",
   "execution_count": null,
   "metadata": {},
   "outputs": [],
   "source": [
    "# top stations are hardcoded but ideally, a list would be read in.\n",
    "stations_list = [\n",
    "    '34 ST-PENN STA', 'GRD CNTRL-42 ST', '34 ST-HERALD SQ', '23 ST',\n",
    "    '14 ST-UNION SQ', 'TIMES SQ-42 ST', 'FULTON ST', '86 ST',\n",
    "    '42 ST-PORT AUTH', '59 ST COLUMBUS',\n",
    "]"
   ]
  },
  {
   "cell_type": "code",
   "execution_count": null,
   "metadata": {},
   "outputs": [],
   "source": [
    "# match station names in dataframe to elements in the stations list\n",
    "df2 = df.loc[df['STATION'].isin(stations_list)].reset_index()"
   ]
  },
  {
   "cell_type": "code",
   "execution_count": null,
   "metadata": {},
   "outputs": [],
   "source": [
    "# convert dates to week number in the year\n",
    "df2['WEEK_OF_YEAR'] = df['DATE'].dt.week"
   ]
  },
  {
   "cell_type": "markdown",
   "metadata": {},
   "source": [
    "### 3. Visualize data"
   ]
  },
  {
   "cell_type": "code",
   "execution_count": null,
   "metadata": {},
   "outputs": [],
   "source": [
    "# create data frame for visualization\n",
    "df_viz = (df2[['STATION','WEEK_OF_YEAR','TOTAL']]\n",
    "          .groupby(['STATION','WEEK_OF_YEAR'])[['TOTAL']]\n",
    "          .mean())\n",
    "\n",
    "df_viz = df_viz.reset_index()\n",
    "df_viz['TOTAL']= df_viz['TOTAL']/1000"
   ]
  },
  {
   "cell_type": "code",
   "execution_count": null,
   "metadata": {},
   "outputs": [],
   "source": [
    "# stage data in a pivot table for seaborn heatmap\n",
    "df_viz = pd.pivot_table(\n",
    "    data=df_viz,\n",
    "    index='STATION',\n",
    "    values='TOTAL',\n",
    "    columns='WEEK_OF_YEAR',\n",
    ")"
   ]
  },
  {
   "cell_type": "code",
   "execution_count": null,
   "metadata": {},
   "outputs": [],
   "source": [
    "# change week numbers to month for better comprehension\n",
    "x_labels = [\n",
    "    'April','May','May','May','May',\n",
    "    'June','June','June','June','June',\n",
    "    'July','July','July','July',\n",
    "]\n",
    "\n",
    "df_viz.columns = x_labels"
   ]
  },
  {
   "cell_type": "code",
   "execution_count": null,
   "metadata": {
    "scrolled": false
   },
   "outputs": [],
   "source": [
    "# render heatmap\n",
    "plt.figure(figsize=(16,8))\n",
    "ax = plt.axes()\n",
    "\n",
    "sns.heatmap(\n",
    "    df_viz,\n",
    "    fmt=\".0f\",\n",
    "    cmap='inferno',\n",
    "    annot=True,\n",
    "    annot_kws={\"size\": 12},\n",
    "    cbar_kws={'label': \"Average Daily Traffic (in thousands)\"},\n",
    "    ax = ax\n",
    ")\n",
    "\n",
    "# configure axes and labels\n",
    "ax.set_title('Traffic for Top Stations by Week', fontsize=20)\n",
    "ax.title.set_position([.5, 1.05])\n",
    "plt.xlabel('Week of Year', fontsize=16)\n",
    "plt.ylabel('Station', fontsize=16);\n",
    "ax.figure.axes[-1].yaxis.label.set_size(16)\n",
    "\n",
    "# format and output figure\n",
    "# plt.tight_layout()\n",
    "# # plt.savefig('heatmap_fig_final.pdf', transparent=True);"
   ]
  }
 ],
 "metadata": {
  "kernelspec": {
   "display_name": "Python 3",
   "language": "python",
   "name": "python3"
  },
  "language_info": {
   "codemirror_mode": {
    "name": "ipython",
    "version": 3
   },
   "file_extension": ".py",
   "mimetype": "text/x-python",
   "name": "python",
   "nbconvert_exporter": "python",
   "pygments_lexer": "ipython3",
   "version": "3.6.6"
  }
 },
 "nbformat": 4,
 "nbformat_minor": 2
}
