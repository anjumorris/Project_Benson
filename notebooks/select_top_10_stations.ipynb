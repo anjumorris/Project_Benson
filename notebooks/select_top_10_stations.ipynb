{
 "cells": [
  {
   "cell_type": "code",
   "execution_count": null,
   "metadata": {},
   "outputs": [],
   "source": [
    "import pandas as pd"
   ]
  },
  {
   "cell_type": "code",
   "execution_count": null,
   "metadata": {},
   "outputs": [],
   "source": [
    "# load the cleaned data output from \"clean_data.ipynb\"\n",
    "mta_data = pd.read_csv('output_stage2.csv', parse_dates=['DATETIME'])\n",
    "\n",
    "# drop the default index column\n",
    "mta_data.drop('Unnamed: 0', axis=1, inplace=True)\n",
    "\n",
    "mta_data.head()"
   ]
  },
  {
   "cell_type": "code",
   "execution_count": null,
   "metadata": {},
   "outputs": [],
   "source": [
    "# aggregate the combined traffic for each station\n",
    "station_daily_totals = mta_data.groupby(\n",
    "    [\"STATION\", \"DATE\"]\n",
    ")[[\"ENTRY_DIFF\", \"EXIT_DIFF\"]].sum()\n",
    "\n",
    "station_daily_totals.reset_index(inplace=True)"
   ]
  },
  {
   "cell_type": "code",
   "execution_count": null,
   "metadata": {},
   "outputs": [],
   "source": [
    "# calculate the total daily traffic through each turnstile\n",
    "station_daily_totals[\"ENTRIES + EXITS\"] = (\n",
    "    station_daily_totals[\"ENTRY_DIFF\"] +\n",
    "    station_daily_totals[\"EXIT_DIFF\"]\n",
    ")"
   ]
  },
  {
   "cell_type": "code",
   "execution_count": null,
   "metadata": {},
   "outputs": [],
   "source": [
    "# top 10 stations on May 1, 2018\n",
    "top_10_stations_may1 = (\n",
    "    station_daily_totals[station_daily_totals[\"DATE\"] == \"05/01/2018\"]\n",
    "    .sort_values(by=\"ENTRIES + EXITS\", ascending=False)\n",
    "    .reset_index()\n",
    "    .head(10)\n",
    ")\n",
    "top_10_stations_may1"
   ]
  },
  {
   "cell_type": "code",
   "execution_count": null,
   "metadata": {},
   "outputs": [],
   "source": [
    "# top 10 stations over the 3 month period from 4/28/2018 to 07/27/2018\n",
    "top_10_stations = (\n",
    "    station_daily_totals\n",
    "    .groupby([\"STATION\"])\n",
    "    .mean()\n",
    "    .sort_values(by=\"ENTRIES + EXITS\", ascending=False)\n",
    "    .reset_index()\n",
    "    .head(10)\n",
    ")\n",
    "top_10_stations"
   ]
  }
 ],
 "metadata": {
  "kernelspec": {
   "display_name": "Python 3",
   "language": "python",
   "name": "python3"
  },
  "language_info": {
   "codemirror_mode": {
    "name": "ipython",
    "version": 3
   },
   "file_extension": ".py",
   "mimetype": "text/x-python",
   "name": "python",
   "nbconvert_exporter": "python",
   "pygments_lexer": "ipython3",
   "version": "3.7.0"
  }
 },
 "nbformat": 4,
 "nbformat_minor": 2
}
