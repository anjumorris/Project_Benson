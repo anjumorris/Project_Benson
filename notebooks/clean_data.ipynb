{
 "cells": [
  {
   "cell_type": "markdown",
   "metadata": {},
   "source": [
    "## Clean data and write to a file"
   ]
  },
  {
   "cell_type": "code",
   "execution_count": null,
   "metadata": {},
   "outputs": [],
   "source": [
    "# This reads in the concatenated data file inoutput_stage1 with fixed formatting \n",
    "# and writes to an output_stage2 file"
   ]
  },
  {
   "cell_type": "code",
   "execution_count": null,
   "metadata": {
    "scrolled": false
   },
   "outputs": [],
   "source": [
    "import pandas as pd\n",
    "import seaborn\n",
    "import requests\n",
    "import matplotlib.pyplot as plt\n",
    "\n",
    "%pylab inline \n",
    "%config InlineBackend.figure_format = 'svg'\n",
    "seaborn.set_style(\"white\")"
   ]
  },
  {
   "cell_type": "markdown",
   "metadata": {},
   "source": [
    "### 1. Group data by turnstile.  Calculate entries and exits."
   ]
  },
  {
   "cell_type": "code",
   "execution_count": null,
   "metadata": {},
   "outputs": [],
   "source": [
    "df = pd.read_csv('output_stage1.csv', parse_dates=['DATETIME'])\n",
    "df.drop('Unnamed: 0',axis =1, inplace = True)\n",
    "df.head()"
   ]
  },
  {
   "cell_type": "code",
   "execution_count": null,
   "metadata": {},
   "outputs": [],
   "source": [
    "# groupby individual turnstiles\n",
    "turnstile =['STATION', 'UNIT', 'C/A', 'SCP']\n",
    "\n",
    "df['ENTRY_DIFF'] = (df.groupby(turnstile)['ENTRIES']\n",
    "                           .diff()) \n",
    "df.head()"
   ]
  },
  {
   "cell_type": "code",
   "execution_count": null,
   "metadata": {},
   "outputs": [],
   "source": [
    "df['EXIT_DIFF'] = (df.groupby(turnstile)['EXITS']\n",
    "                           .diff()) \n",
    "df.head()"
   ]
  },
  {
   "cell_type": "code",
   "execution_count": null,
   "metadata": {},
   "outputs": [],
   "source": [
    "bignum = 100_000\n",
    "\n",
    "df = df[\n",
    "    (df[\"EXIT_DIFF\"] > 0) &\n",
    "    (df[\"ENTRY_DIFF\"] > 0) &\n",
    "    (df[\"EXIT_DIFF\"] < bignum) &\n",
    "    (df[\"ENTRY_DIFF\"] < bignum)\n",
    "]"
   ]
  },
  {
   "cell_type": "code",
   "execution_count": null,
   "metadata": {
    "scrolled": true
   },
   "outputs": [],
   "source": [
    "df.head()"
   ]
  },
  {
   "cell_type": "markdown",
   "metadata": {},
   "source": [
    "### 2. Write to csv"
   ]
  },
  {
   "cell_type": "code",
   "execution_count": null,
   "metadata": {},
   "outputs": [],
   "source": [
    "df.to_csv('output_stage2.csv')"
   ]
  }
 ],
 "metadata": {
  "kernelspec": {
   "display_name": "Python 3",
   "language": "python",
   "name": "python3"
  },
  "language_info": {
   "codemirror_mode": {
    "name": "ipython",
    "version": 3
   },
   "file_extension": ".py",
   "mimetype": "text/x-python",
   "name": "python",
   "nbconvert_exporter": "python",
   "pygments_lexer": "ipython3",
   "version": "3.6.6"
  }
 },
 "nbformat": 4,
 "nbformat_minor": 2
}
