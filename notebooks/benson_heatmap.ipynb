{
 "cells": [
  {
   "cell_type": "code",
   "execution_count": null,
   "metadata": {},
   "outputs": [],
   "source": [
    "import numpy as np\n",
    "import pandas as pd\n",
    "import matplotlib.pyplot as plt\n",
    "import seaborn as sns\n",
    "import datetime as dt\n",
    "\n",
    "# configures format of images\n",
    "%config InlineBackend.figure_format = 'svg'\n",
    "# allows render in Jupyter notebook\n",
    "%matplotlib inline\n",
    "\n",
    "sns.set(font_scale=0.8)"
   ]
  },
  {
   "cell_type": "code",
   "execution_count": null,
   "metadata": {},
   "outputs": [],
   "source": [
    "# read cleaned data into data frame\n",
    "data_url = \"\"\"https://raw.githubusercontent.com/anjumorris/\n",
    "Metis_Project_Benson/master/notebooks/output_stage2.csv\"\"\"\n",
    "\n",
    "df = pd.read_csv('output_stage2.txt', parse_dates=['DATETIME'])\n",
    "df.drop(['Unnamed: 0'], axis =1, inplace=True)\n",
    "df['TOTAL'] = df['ENTRY_DIFF'] + df['EXIT_DIFF']\n",
    "df.head(2)"
   ]
  },
  {
   "cell_type": "code",
   "execution_count": null,
   "metadata": {},
   "outputs": [],
   "source": [
    "df['WEEK_OF_YEAR'] = df['DATETIME'].dt.week"
   ]
  },
  {
   "cell_type": "code",
   "execution_count": null,
   "metadata": {},
   "outputs": [],
   "source": [
    "# top stations\n",
    "stations_list = ['34 ST-PENN STA', 'GRD CNTRL-42 ST', '34 ST-HERALD SQ', '23 ST', \\\n",
    "                 '14 ST-UNION SQ', 'TIMES SQ-42 ST', 'FULTON ST', '86 ST', \\\n",
    "                '42 ST-PORT AUTH', '59 ST COLUMBUS', '125 ST', 'CANAL ST', '59 ST' \\\n",
    "                '47-50 STS ROCK', 'CHAMBERS ST', '96 ST', 'PATH NEW WTC', '14 ST' \\\n",
    "                'FLUSHING-MAIN', '28 ST']\n",
    "\n",
    "stations = np.array(stations_list)\n",
    "\n",
    "# filters by checking to see if element in dataframe matches an element in stations list\n",
    "df2 = df.loc[df['STATION'].isin(stations_list)]\n",
    "df2.head(2)"
   ]
  },
  {
   "cell_type": "code",
   "execution_count": null,
   "metadata": {},
   "outputs": [],
   "source": [
    "# create data frame for visualization\n",
    "data = df2[['STATION','WEEK_OF_YEAR','TOTAL']].groupby(['STATION', 'WEEK_OF_YEAR'])[['TOTAL']].mean()\n",
    "data = data.reset_index()\n",
    "data.head()"
   ]
  },
  {
   "cell_type": "code",
   "execution_count": null,
   "metadata": {},
   "outputs": [],
   "source": [
    "# create a pivot table to pass into seaborn heatmap\n",
    "df_data = pd.pivot_table(data=data,\n",
    "                         index='STATION',\n",
    "                         values='TOTAL',\n",
    "                         columns='WEEK_OF_YEAR'\n",
    "                        )\n",
    "df_data.head()"
   ]
  },
  {
   "cell_type": "code",
   "execution_count": null,
   "metadata": {
    "scrolled": false
   },
   "outputs": [],
   "source": [
    "# create heatmap\n",
    "ax = plt.axes()\n",
    "\n",
    "sns.heatmap(df_data,\n",
    "            fmt=\".0f\",\n",
    "            cmap='YlOrRd',\n",
    "            annot=True,\n",
    "            cbar_kws={'label': \"Average Daily Count (Entries + Exits)\"},\n",
    "            ax = ax\n",
    "           )\n",
    "\n",
    "ax.figure.axes[-1].yaxis.label.set_size(9)\n",
    "ax.set_title('Movement at Top Stations By Week', fontsize=14)\n",
    "ax.title.set_position([.5, 1.05])\n",
    "plt.xlabel('WEEK OF YEAR', fontsize=12)\n",
    "plt.ylabel('STATION', fontsize=12);\n",
    "# plt.text(0,10, '*movement = average daily [entries + exits]', fontsize=8, fontstyle='italic')\n",
    "plt.tight_layout()\n",
    "\n",
    "plt.savefig('heatmap_fig.pdf', transparent=True);"
   ]
  },
  {
   "cell_type": "code",
   "execution_count": null,
   "metadata": {},
   "outputs": [],
   "source": []
  }
 ],
 "metadata": {
  "kernelspec": {
   "display_name": "Python 3",
   "language": "python",
   "name": "python3"
  },
  "language_info": {
   "codemirror_mode": {
    "name": "ipython",
    "version": 3
   },
   "file_extension": ".py",
   "mimetype": "text/x-python",
   "name": "python",
   "nbconvert_exporter": "python",
   "pygments_lexer": "ipython3",
   "version": "3.6.6"
  }
 },
 "nbformat": 4,
 "nbformat_minor": 2
}
