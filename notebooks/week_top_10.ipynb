{
 "cells": [
  {
   "cell_type": "code",
   "execution_count": null,
   "metadata": {},
   "outputs": [],
   "source": [
    "# visual multiple stations for each day of the week\n",
    "%pylab inline \n",
    "\n",
    "import pandas as pd\n",
    "import seaborn as sns\n",
    "import requests\n",
    "import matplotlib.pyplot as plt\n",
    "import datetime\n",
    "\n",
    "%matplotlib inline\n",
    "%config InlineBackend.figure_format = 'svg'\n",
    "sns.set_style(\"white\")"
   ]
  },
  {
   "cell_type": "code",
   "execution_count": null,
   "metadata": {},
   "outputs": [],
   "source": [
    "df = pd.read_csv('output_stage2.csv',parse_dates=['DATETIME'])\n",
    "df.drop('Unnamed: 0',axis =1, inplace = True)\n",
    "df.head()"
   ]
  },
  {
   "cell_type": "code",
   "execution_count": null,
   "metadata": {},
   "outputs": [],
   "source": [
    "turnstile =['STATION', 'UNIT', 'C/A', 'SCP']\n",
    "df[turnstile].nunique()"
   ]
  },
  {
   "cell_type": "code",
   "execution_count": null,
   "metadata": {},
   "outputs": [],
   "source": [
    "df_clean = df[['STATION', 'UNIT', 'C/A', 'SCP','DATE','ENTRY_DIFF','EXIT_DIFF','DATETIME']]\n",
    "df_clean.head()"
   ]
  },
  {
   "cell_type": "code",
   "execution_count": null,
   "metadata": {},
   "outputs": [],
   "source": [
    "df_clean['DATE'] = pd.to_datetime(df_clean['DATE'], format=\"%m/%d/%Y\")\n",
    "df_clean.head()"
   ]
  },
  {
   "cell_type": "code",
   "execution_count": null,
   "metadata": {},
   "outputs": [],
   "source": [
    "#df_clean.STATION.unique()"
   ]
  },
  {
   "cell_type": "code",
   "execution_count": null,
   "metadata": {},
   "outputs": [],
   "source": [
    "# stations are the top stations outputted add here\n",
    "#stations =['23 ST','1 AV', '103 ST', '103 ST-CORONA', '104 ST', '110 ST', '111 ST','116 ST', '116 ST-COLUMBIA', '121 ST'] # change once u get\n",
    "#stations =['14 ST-UNION SQ','59 ST COLUMBUS','TIMES SQ-42 ST','FLUSHING-MAIN','FULTON ST','PATH NEW WTC','JKSN HT-ROOSVLT','GRD CNTRL-42 ST','34 ST-HERALD SQ','34 ST-PENN STA']\n",
    "stations =[\n",
    "    '34 ST-PENN STA',\n",
    "    'GRD CNTRL-42 ST',\n",
    "    '34 ST-HERALD SQ',\n",
    "    '23 ST',\n",
    "    '14 ST-UNION SQ',\n",
    "    'TIMES SQ-42 ST',\n",
    "    'FULTON ST',\n",
    "    '86 ST',\n",
    "    '42 ST-PORT AUTH',\n",
    "    '59 ST COLUMBUS',\n",
    "    '125 ST',]\n",
    "# ‘CANAL ST’,\n",
    "# ‘59 ST’,\n",
    "# ‘47-50 STS ROCK’,\n",
    "# ‘CHAMBERS ST’,\n",
    "# ‘96 ST’,\n",
    "# ‘PATH NEW WTC’,\n",
    "# ‘14 ST’,\n",
    "# ‘FLUSHING-MAIN’,\n",
    "# ‘28 ST’]\n",
    "station_data = df_clean.loc[df_clean['STATION'].isin(stations),['STATION','DATE','ENTRY_DIFF','EXIT_DIFF','DATETIME']]\n",
    "station_data.head()"
   ]
  },
  {
   "cell_type": "code",
   "execution_count": null,
   "metadata": {},
   "outputs": [],
   "source": [
    "# station_d = station_data.groupby('STATION').count()\n",
    "# station_d['totals'] = station_d['ENTRY_DIFF']+ station_d['EXIT_DIFF']\n",
    "# station_d.sort_values(by='totals',ascending= False)"
   ]
  },
  {
   "cell_type": "code",
   "execution_count": null,
   "metadata": {},
   "outputs": [],
   "source": [
    "station_data =station_data.groupby(['STATION','DATE']).sum().reset_index()\n",
    "station_data.head()"
   ]
  },
  {
   "cell_type": "code",
   "execution_count": null,
   "metadata": {},
   "outputs": [],
   "source": [
    "\n",
    "station_data = (station_data\n",
    "                .groupby(['STATION',station_data['DATE'].dt.weekday])\n",
    "                .mean()\n",
    "                .reset_index()\n",
    "               )\n",
    "station_data.head()"
   ]
  },
  {
   "cell_type": "code",
   "execution_count": null,
   "metadata": {},
   "outputs": [],
   "source": [
    "markers = ['Monday','Tuesday','Wednesday','Thursday','Friday','Saturday','Sunday']\n",
    "plt.figure(figsize=[10,5])\n",
    "for station in stations:\n",
    "    data = station_data.loc[station_data['STATION']==station,:]\n",
    "    plt.plot(data['DATE'],data['ENTRY_DIFF']+data['EXIT_DIFF'])\n",
    "    \n",
    "plt.grid()\n",
    "ticks_x = np.linspace(0, 6, 7)\n",
    "plt.xticks(ticks_x, markers, rotation=45);\n",
    "plt.ylabel(\"Average Total Traffic\",fontsize = 12, weight = 'bold')\n",
    "plt.xlabel(\"Day of the Week\",fontsize = 12, weight = 'bold')\n",
    "plt.title(\"Traffic for Top 10 Stations\",fontsize = 15, weight = 'bold')\n",
    "plt.legend(stations,shadow = True, loc = 'upper right', fontsize=8);\n",
    "plt.tight_layout()\n",
    "#plt.savefig('movement_at_top_stations_total.pdf',format='pdf',transparent=True)"
   ]
  },
  {
   "cell_type": "code",
   "execution_count": null,
   "metadata": {},
   "outputs": [],
   "source": [
    "\n"
   ]
  },
  {
   "cell_type": "code",
   "execution_count": null,
   "metadata": {},
   "outputs": [],
   "source": []
  }
 ],
 "metadata": {
  "kernelspec": {
   "display_name": "Python 3",
   "language": "python",
   "name": "python3"
  },
  "language_info": {
   "codemirror_mode": {
    "name": "ipython",
    "version": 3
   },
   "file_extension": ".py",
   "mimetype": "text/x-python",
   "name": "python",
   "nbconvert_exporter": "python",
   "pygments_lexer": "ipython3",
   "version": "3.6.6"
  }
 },
 "nbformat": 4,
 "nbformat_minor": 2
}
