{
 "cells": [
  {
   "cell_type": "code",
   "execution_count": 20,
   "metadata": {},
   "outputs": [
    {
     "name": "stdout",
     "output_type": "stream",
     "text": [
      "['59 ST' '14 ST' '23 ST' '34 ST-HERALD SQ' '34 ST-PENN STA'\n",
      " '14 ST-UNION SQ' 'GRD CNTRL-42 ST' '42 ST-PORT AUTH' '47-50 STS ROCK'\n",
      " 'TIMES SQ-42 ST']\n"
     ]
    }
   ],
   "source": [
    "import pandas as pd\n",
    "import seaborn\n",
    "import matplotlib.pyplot as plt\n",
    "\n",
    "# Imports resident data\n",
    "ndb = pd.read_csv('zip_data.csv')\n",
    "\n",
    "# Imports company data\n",
    "cdb = pd.read_csv('company_data.csv')\n",
    "\n",
    "# Groups company data by ZIP Code\n",
    "cdbz = cdb.groupby('ZIP').sum().reset_index()\n",
    "\n",
    "# Merges the two data sets\n",
    "wdf = pd.merge(cdbz, ndb, on='ZIP', how='outer').reset_index()\n",
    "wdf = wdf.drop(['index'], axis=1)\n",
    "\n",
    "# Fills in null values\n",
    "wdf['EMPLOYEES'].fillna(0, inplace=True)\n",
    "wdf['RESIDENTS'].fillna(0, inplace=True)\n",
    "\n",
    "# Adjusts the employers column to only include estimated female employees\n",
    "wdf['EMPLOYEES'] = wdf['EMPLOYEES'] * .272 // 1\n",
    "\n",
    "# Creates sum column and then limits to top the 8\n",
    "wdf['TOTAL'] = wdf['EMPLOYEES'] + wdf['RESIDENTS']\n",
    "wdf = wdf.sort_values('TOTAL', ascending=False).head(8)\n",
    "\n",
    "# Imports a list of stations in top ZIP codes and merges with the above data set\n",
    "sdf = pd.read_csv('top_zip_stations.csv')\n",
    "tsdf = pd.merge(wdf, sdf, on='ZIP').reset_index()\n",
    "tsdf = tsdf.drop(['index'], axis=1)\n",
    "\n",
    "# Reads the MTA entrance data and removes time data, raw entries/exits, and DESC columns\n",
    "turnstile = pd.read_csv('output_stage2.csv')\n",
    "turnstile['MOVEMENT'] = (turnstile['ENTRY_DIFF'] + turnstile['EXIT_DIFF'])\n",
    "turnstile = turnstile[['STATION', 'UNIT', 'C/A', 'SCP','DATE','MOVEMENT']]\n",
    "\n",
    "# Group data by date and station and construct the sum of entries and exits\n",
    "turnstile = turnstile.groupby(by=['STATION', 'DATE']).sum()\n",
    "\n",
    "# Group data by date, finds the average entry and exit values, and rounds those numbers\n",
    "turnstile = turnstile.groupby(by=['STATION']).mean()\n",
    "turnstile = turnstile.round(0)\n",
    "\n",
    "# Sorts the station data by the highest number of entries and limits to the top 20\n",
    "turnstile = turnstile.sort_values(['MOVEMENT'], ascending=False).head(20)\n",
    "\n",
    "# Merges the top ZIP code station data with the overall station data\n",
    "station_data = pd.merge(tsdf, turnstile, on='STATION')\n",
    "\n",
    "# Selects the target stations for the outreach\n",
    "stations = station_data.STATION.unique()\n",
    "print(stations)"
   ]
  },
  {
   "cell_type": "code",
   "execution_count": null,
   "metadata": {},
   "outputs": [],
   "source": []
  }
 ],
 "metadata": {
  "kernelspec": {
   "display_name": "Python 3",
   "language": "python",
   "name": "python3"
  },
  "language_info": {
   "codemirror_mode": {
    "name": "ipython",
    "version": 3
   },
   "file_extension": ".py",
   "mimetype": "text/x-python",
   "name": "python",
   "nbconvert_exporter": "python",
   "pygments_lexer": "ipython3",
   "version": "3.6.5"
  }
 },
 "nbformat": 4,
 "nbformat_minor": 2
}
